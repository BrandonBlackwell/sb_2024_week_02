{
 "cells": [
  {
   "cell_type": "markdown",
   "id": "9c33da87-28de-4f5a-aa91-aec408c56e44",
   "metadata": {},
   "source": [
    "# Exercise 01: Running a Jupter Notebook"
   ]
  },
  {
   "cell_type": "markdown",
   "id": "d51125cf-9ca4-4344-9484-6bc75bab77a0",
   "metadata": {},
   "source": [
    "**DO NOT BLINDLY RUN THIS NOTEBOOK IN ITS ENTIRETY.  STEP THROUGH IT BOX-BY-BOX.**\n",
    "\n",
    "First, verify that you set up your local environment with the correct version of python."
   ]
  },
  {
   "cell_type": "code",
   "execution_count": null,
   "id": "c9cc4990-c417-4636-b207-46c6c14926b9",
   "metadata": {},
   "outputs": [],
   "source": [
    "import sys\n",
    "print(sys.version)"
   ]
  },
  {
   "cell_type": "markdown",
   "id": "38ae9cb8-d7df-4fdd-9fad-2adffb7e412e",
   "metadata": {},
   "source": [
    "If the above doesn't say `3.10.13`, then you should exit this notebook and create a clean directory and properly set the virtualenv.\n",
    "\n",
    "**DO NOT PROCEED UNLESS YOU ARE GETTING THE CORRECT PYTHON VERSION**"
   ]
  },
  {
   "cell_type": "markdown",
   "id": "d301bbed-0fd7-4156-86b8-d77f130b12e1",
   "metadata": {},
   "source": [
    "Now, let's make sure you're in a clean virtualenv:"
   ]
  },
  {
   "cell_type": "code",
   "execution_count": null,
   "id": "2cc7fe4b-bc12-45c5-aeb6-6b97acc3a962",
   "metadata": {},
   "outputs": [],
   "source": [
    "import pkg_resources\n",
    "import re\n",
    "\n",
    "print(\"=======\")\n",
    "pat = re.compile('scikit')\n",
    "for p in pkg_resources.working_set:\n",
    "    if pat.search(p.project_name):\n",
    "        print(f\"found {p.project_name}\")\n",
    "print(\"=======\")"
   ]
  },
  {
   "cell_type": "markdown",
   "id": "0f616230-dc8a-45c0-9139-0a42fc8bbc25",
   "metadata": {},
   "source": [
    "If this is your first time running this notebook in this directory and nothing is printed between the lines, you're in clean virtualenv.  Proceed to the next step!\n",
    "\n",
    "If not, **YOU ACCIDENTIALLY SET YOUR VIRTUALENV TO AN EXISTING ONE, AND RISK MESSING IT UP BADLY**.  Try again in a new directory.\n",
    "\n",
    "If this is not your first time running this notbook in this directory, then you've probably already installed `scikit-learn` and should expect to see it in the list above."
   ]
  },
  {
   "cell_type": "markdown",
   "id": "49ba54f8-4d45-488c-b020-79550251eae6",
   "metadata": {},
   "source": [
    "Now we're ready to install `scikit-learn` and `matplotlib`:"
   ]
  },
  {
   "cell_type": "code",
   "execution_count": null,
   "id": "0ee33ebc-13fe-4a34-8295-f057db4be33d",
   "metadata": {},
   "outputs": [],
   "source": [
    "import sys\n",
    "!{sys.executable} -m pip install -U scikit-learn matplotlib"
   ]
  },
  {
   "cell_type": "markdown",
   "id": "4ded9955-61a3-442f-9b14-2b9dd0afff1a",
   "metadata": {},
   "source": [
    "The following code is from [this tutorial](https://scikit-learn.org/stable/auto_examples/classification/plot_digits_classification.html#sphx-glr-auto-examples-classification-plot-digits-classification-py) that you'll be looking at later.  Go ahead and run it."
   ]
  },
  {
   "cell_type": "code",
   "execution_count": null,
   "id": "825cd04d-bda8-4a8b-a1ab-f9cb08fc4d16",
   "metadata": {},
   "outputs": [],
   "source": [
    "import matplotlib.pyplot as plt\n",
    "\n",
    "from sklearn import datasets, metrics, svm\n",
    "from sklearn.model_selection import train_test_split\n",
    "\n",
    "digits = datasets.load_digits()\n",
    "\n",
    "_, axes = plt.subplots(nrows=1, ncols=10, figsize=(10, 3))\n",
    "for ax, image, label in zip(axes, digits.images, digits.target):\n",
    "    ax.set_axis_off()\n",
    "    ax.imshow(image, cmap=plt.cm.gray_r, interpolation=\"nearest\")\n",
    "    ax.set_title(\"%i\" % label)"
   ]
  },
  {
   "cell_type": "markdown",
   "id": "a330d320-58c2-467a-b29f-978f2d90fea6",
   "metadata": {},
   "source": [
    "You should see the digits from 0-9."
   ]
  },
  {
   "cell_type": "markdown",
   "id": "544b2ce9-f42d-4cba-9872-fea4ebe1a408",
   "metadata": {},
   "source": [
    "Add a markdown cell below this one, and put a suggestion for a spriNGboard topic that you'd like to see."
   ]
  }
 ],
 "metadata": {
  "kernelspec": {
   "display_name": "Python 3 (ipykernel)",
   "language": "python",
   "name": "python3"
  },
  "language_info": {
   "codemirror_mode": {
    "name": "ipython",
    "version": 3
   },
   "file_extension": ".py",
   "mimetype": "text/x-python",
   "name": "python",
   "nbconvert_exporter": "python",
   "pygments_lexer": "ipython3",
   "version": "3.10.13"
  }
 },
 "nbformat": 4,
 "nbformat_minor": 5
}
