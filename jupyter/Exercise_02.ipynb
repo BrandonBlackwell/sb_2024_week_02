{
 "cells": [
  {
   "cell_type": "markdown",
   "id": "d7065ff3-45d7-40fd-a64c-efa4818d2ea6",
   "metadata": {},
   "source": [
    "# Exercise 02: Confusion Matrices"
   ]
  },
  {
   "cell_type": "markdown",
   "id": "9bf8a3fe-a449-4aa4-be0c-52cdf9dbda39",
   "metadata": {},
   "source": [
    "**DO NOT ATTEMPT THIS EXERCISE UNTIL YOU HAVE COMPLETED EXERCISE 01!**\n",
    "\n",
    "First, we're going to make sure the necessary modules are installed:"
   ]
  },
  {
   "cell_type": "code",
   "execution_count": null,
   "id": "0af056cc-edb3-42f7-82de-cb89405dfc61",
   "metadata": {},
   "outputs": [],
   "source": [
    "import sys\n",
    "!{sys.executable} -m pip install -U scikit-learn matplotlib"
   ]
  },
  {
   "cell_type": "markdown",
   "id": "429259b0-e60b-499d-bc0c-5285c6d704f6",
   "metadata": {},
   "source": [
    "Read [this page](https://scikit-learn.org/stable/modules/generated/sklearn.metrics.confusion_matrix.html#sklearn.metrics.confusion_matrix) on confusion matrices.  Add a code cell below that will produce the following confusion matrix:\n",
    "```\n",
    "  [[1 2 3]\n",
    "   [3 2 1]\n",
    "   [3 3 3]]\n",
    "```"
   ]
  }
 ],
 "metadata": {
  "kernelspec": {
   "display_name": "Python 3 (ipykernel)",
   "language": "python",
   "name": "python3"
  },
  "language_info": {
   "codemirror_mode": {
    "name": "ipython",
    "version": 3
   },
   "file_extension": ".py",
   "mimetype": "text/x-python",
   "name": "python",
   "nbconvert_exporter": "python",
   "pygments_lexer": "ipython3",
   "version": "3.10.13"
  }
 },
 "nbformat": 4,
 "nbformat_minor": 5
}
