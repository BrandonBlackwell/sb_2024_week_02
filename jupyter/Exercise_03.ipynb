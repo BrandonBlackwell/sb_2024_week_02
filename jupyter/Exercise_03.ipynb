{
 "cells": [
  {
   "cell_type": "markdown",
   "id": "a8693c05-992b-4298-9bac-7a8e7f1cfa7e",
   "metadata": {},
   "source": [
    "# Exercise 03: Precision, Recall, F-Score, and Support"
   ]
  },
  {
   "cell_type": "markdown",
   "id": "24344e16-6c18-4712-8ad8-132c2b8842af",
   "metadata": {},
   "source": [
    "**DO NOT ATTEMPT THIS EXERCISE UNTIL YOU HAVE COMPLETED EXERCISE 01!**\n",
    "\n",
    "First, we're going to make sure the necessary modules are installed:"
   ]
  },
  {
   "cell_type": "code",
   "execution_count": null,
   "id": "34bd8673-7d79-441a-928c-0aa49a663c1b",
   "metadata": {},
   "outputs": [],
   "source": [
    "import sys\n",
    "!{sys.executable} -m pip install -U scikit-learn matplotlib"
   ]
  },
  {
   "cell_type": "markdown",
   "id": "984ce129-dd03-4c30-b93d-d7237f418130",
   "metadata": {},
   "source": [
    "Run the following code:"
   ]
  },
  {
   "cell_type": "code",
   "execution_count": null,
   "id": "d8bb40cb-130a-4d9a-8cde-9ab2938a125f",
   "metadata": {},
   "outputs": [],
   "source": [
    "from sklearn.metrics import classification_report\n",
    "\n",
    "y_true = [1,2,3,1,2,3,1,2,3]\n",
    "y_pred = [1,1,1,1,1,1,1,1,1]\n",
    "print(\n",
    "    f\"{classification_report(y_true, y_pred)}\\n\"\n",
    ")"
   ]
  },
  {
   "cell_type": "markdown",
   "id": "65914ddb-af57-4c4a-848c-58ffab5aaf2d",
   "metadata": {},
   "source": [
    "Explain the strengths and weaknesses of the classifier that produced these results.  Why do we get warnings?  How would the report change if the values in the input vectors were rearranged?"
   ]
  },
  {
   "cell_type": "markdown",
   "id": "371b5e52-794f-43d1-90da-e30979905c45",
   "metadata": {},
   "source": [
    "YOUR ANSWER HERE"
   ]
  },
  {
   "cell_type": "markdown",
   "id": "6b6928dd-c3c9-48f8-b2f4-2ff6fc7ad6cc",
   "metadata": {},
   "source": [
    "Run the following code:"
   ]
  },
  {
   "cell_type": "code",
   "execution_count": null,
   "id": "cc3bd103-f2bb-4d3b-bc88-fd6763024195",
   "metadata": {},
   "outputs": [],
   "source": [
    "from sklearn.metrics import classification_report\n",
    "\n",
    "y_true = [1,2,3,1,2,3,1,2,3]\n",
    "y_pred = [1,2,3,1,2,3,1,2,3]\n",
    "print(\n",
    "    f\"{classification_report(y_true, y_pred)}\\n\"\n",
    ")"
   ]
  },
  {
   "cell_type": "markdown",
   "id": "b2da9ede-188f-40cc-97e5-9b1b746a5258",
   "metadata": {},
   "source": [
    "Explain the strengths and weaknesses of the classifier that produced these results."
   ]
  },
  {
   "cell_type": "markdown",
   "id": "3c2d6446-7deb-4cd8-bf45-a7fc4cf55f35",
   "metadata": {},
   "source": [
    "YOUR ANSWER HERE"
   ]
  }
 ],
 "metadata": {
  "kernelspec": {
   "display_name": "Python 3 (ipykernel)",
   "language": "python",
   "name": "python3"
  },
  "language_info": {
   "codemirror_mode": {
    "name": "ipython",
    "version": 3
   },
   "file_extension": ".py",
   "mimetype": "text/x-python",
   "name": "python",
   "nbconvert_exporter": "python",
   "pygments_lexer": "ipython3",
   "version": "3.10.13"
  }
 },
 "nbformat": 4,
 "nbformat_minor": 5
}
